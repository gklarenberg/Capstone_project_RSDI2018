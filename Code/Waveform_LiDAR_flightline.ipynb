{
 "cells": [
  {
   "cell_type": "code",
   "execution_count": 31,
   "metadata": {},
   "outputs": [],
   "source": [
    "import numpy as np\n",
    "import time\n",
    "from matplotlib import pyplot as plt\n",
    "import NEON_AOP_waveform_tools # written by Tristan, lots of functions\n",
    "import pandas as pd"
   ]
  },
  {
   "cell_type": "code",
   "execution_count": 2,
   "metadata": {},
   "outputs": [],
   "source": [
    "# Define the PLS file of the pulsewaves data\n",
    "PlsFile = r\"2015032618_Q780_150326_194954_1_originalpoints.pls\"\n",
    "# there are 2 million pulse points\n",
    "# You have to have the .wvs available as well."
   ]
  },
  {
   "cell_type": "code",
   "execution_count": 3,
   "metadata": {},
   "outputs": [
    {
     "data": {
      "text/plain": [
       "array([24063095])"
      ]
     },
     "execution_count": 3,
     "metadata": {},
     "output_type": "execute_result"
    }
   ],
   "source": [
    "# Figure out how many pulses there are\n",
    "fin_pls_file = open(PlsFile,\"rb\")\n",
    "fin_pls_file.seek(184,0)\n",
    "number_of_pulses = np.fromfile(fin_pls_file,np.int64,1)\n",
    "number_of_pulses"
   ]
  },
  {
   "cell_type": "code",
   "execution_count": 6,
   "metadata": {},
   "outputs": [],
   "source": [
    "# Define the pulses we want \n",
    "pulses = np.arange(0,10)"
   ]
  },
  {
   "cell_type": "code",
   "execution_count": null,
   "metadata": {},
   "outputs": [],
   "source": []
  },
  {
   "cell_type": "code",
   "execution_count": null,
   "metadata": {},
   "outputs": [],
   "source": []
  },
  {
   "cell_type": "code",
   "execution_count": 29,
   "metadata": {},
   "outputs": [
    {
     "name": "stdout",
     "output_type": "stream",
     "text": [
      "read 0 pulses in file in 7.80000000020209e-05 seconds, we are [0.]% done\n",
      "[[5.31524626e+05 4.31784554e+06 2.26042556e+03]\n",
      " [5.31524213e+05 4.31784563e+06 2.25898804e+03]]\n",
      "[[5.31525002e+05 4.31784554e+06 2.26030634e+03]\n",
      " [5.31524589e+05 4.31784563e+06 2.25886865e+03]]\n",
      "[[5.31525982e+05 4.31784506e+06 2.26204872e+03]\n",
      " [5.31525447e+05 4.31784518e+06 2.26017949e+03]\n",
      " [5.31525035e+05 4.31784527e+06 2.25874162e+03]]\n",
      "[[5.31524272e+05 4.31784455e+06 2.26020398e+03]\n",
      " [5.31523859e+05 4.31784464e+06 2.25876656e+03]\n",
      " [5.31523528e+05 4.31784472e+06 2.25761663e+03]]\n",
      "[[5.31524689e+05 4.31784454e+06 2.26022167e+03]\n",
      " [5.31524235e+05 4.31784464e+06 2.25864031e+03]\n",
      " [5.31523946e+05 4.31784471e+06 2.25763399e+03]]\n",
      "[[5.31525213e+05 4.31784461e+06 2.26023246e+03]\n",
      " [5.31524760e+05 4.31784471e+06 2.25865089e+03]\n",
      " [5.31524389e+05 4.31784479e+06 2.25735688e+03]]\n",
      "[[5.31525566e+05 4.31784457e+06 2.26011263e+03]\n",
      " [5.31525113e+05 4.31784467e+06 2.25853087e+03]\n",
      " [5.31524743e+05 4.31784475e+06 2.25723671e+03]]\n",
      "[[5.31524877e+05 4.31784354e+06 2.26013348e+03]\n",
      " [5.31524464e+05 4.31784363e+06 2.25869576e+03]\n",
      " [5.31524093e+05 4.31784371e+06 2.25740181e+03]]\n",
      "[[5.31525314e+05 4.31784354e+06 2.26001451e+03]\n",
      " [5.31524902e+05 4.31784363e+06 2.25857662e+03]]\n",
      "[[5.31525754e+05 4.31784357e+06 2.26002465e+03]\n",
      " [5.31525342e+05 4.31784366e+06 2.25858657e+03]\n",
      " [5.31524931e+05 4.31784375e+06 2.25714849e+03]]\n"
     ]
    }
   ],
   "source": [
    "for pulse in pulses:\n",
    "    pulse=[pulse]\n",
    "    # Read in pulse number info\n",
    "    # 1) coordinate info\n",
    "    # 2) received wave\n",
    "    # 3) outgoing wave\n",
    "    coord_info, wave_in, wave_out = NEON_AOP_waveform_tools.waveform_read(pulse,PlsFile)\n",
    "    # print coordinates\n",
    "    #print(coord_info) # first number is GPS time, next 3 describe the direction of the (3d coordinates), \n",
    "    # last three number are the actual coordinates the start of the pulse (x,y,z)\n",
    "    \n",
    "    initial_params_out = NEON_AOP_waveform_tools.get_params(wave_out[0])\n",
    "    initial_params_in = NEON_AOP_waveform_tools.get_params(wave_in[0])\n",
    "    \n",
    "    num_peaks_in = np.array(initial_params_in[0,-1]) # number of peaks is saved in this location\n",
    "\n",
    "    WFtime = np.arange(1,244) # set up time (ns bins)\n",
    "    \n",
    "    fit_wave_final = NEON_AOP_waveform_tools.get_fit_wave(initial_params_in, 244, num_peaks_in)\n",
    "    \n",
    "    FWHM = (2.355*(initial_params_in[0,2:int(num_peaks_in*3):3]/2**0.5))/2 # full width half max. Grab 3rd, 6th, 9th parameters\n",
    "    \n",
    "    trig_loc = initial_params_in[0,1:int(num_peaks_in*3):3] - FWHM\n",
    "    trig_loc  = np.reshape(trig_loc,(int(num_peaks_in),1))\n",
    "    \n",
    "    # normalize trigger locations by the location of the outgoing pulse\n",
    "    trig_loc = initial_params_in[0,1:int(num_peaks_in*3):3]-FWHM-initial_params_out[0,1]\n",
    "    trig_loc = np.reshape(trig_loc,(int(num_peaks_in),1))\n",
    "    \n",
    "    pulse_coords = (np.matlib.repmat(trig_loc[:,0],3,1)).transpose()*coord_info[:,1:4]+coord_info[:,4:7]\n",
    "    print(pulse_coords)\n",
    "    "
   ]
  },
  {
   "cell_type": "code",
   "execution_count": null,
   "metadata": {},
   "outputs": [],
   "source": []
  },
  {
   "cell_type": "code",
   "execution_count": null,
   "metadata": {},
   "outputs": [],
   "source": []
  },
  {
   "cell_type": "code",
   "execution_count": null,
   "metadata": {},
   "outputs": [],
   "source": []
  },
  {
   "cell_type": "code",
   "execution_count": null,
   "metadata": {},
   "outputs": [],
   "source": [
    "\n"
   ]
  },
  {
   "cell_type": "code",
   "execution_count": null,
   "metadata": {},
   "outputs": [],
   "source": []
  },
  {
   "cell_type": "code",
   "execution_count": null,
   "metadata": {},
   "outputs": [],
   "source": []
  },
  {
   "cell_type": "code",
   "execution_count": null,
   "metadata": {},
   "outputs": [],
   "source": []
  },
  {
   "cell_type": "code",
   "execution_count": null,
   "metadata": {},
   "outputs": [],
   "source": []
  },
  {
   "cell_type": "code",
   "execution_count": null,
   "metadata": {},
   "outputs": [],
   "source": []
  },
  {
   "cell_type": "code",
   "execution_count": null,
   "metadata": {},
   "outputs": [],
   "source": []
  },
  {
   "cell_type": "code",
   "execution_count": null,
   "metadata": {},
   "outputs": [],
   "source": []
  },
  {
   "cell_type": "code",
   "execution_count": null,
   "metadata": {},
   "outputs": [],
   "source": []
  },
  {
   "cell_type": "code",
   "execution_count": null,
   "metadata": {},
   "outputs": [],
   "source": []
  },
  {
   "cell_type": "code",
   "execution_count": null,
   "metadata": {},
   "outputs": [],
   "source": []
  },
  {
   "cell_type": "code",
   "execution_count": null,
   "metadata": {},
   "outputs": [],
   "source": []
  },
  {
   "cell_type": "code",
   "execution_count": null,
   "metadata": {},
   "outputs": [],
   "source": []
  }
 ],
 "metadata": {
  "kernelspec": {
   "display_name": "Python 3",
   "language": "python",
   "name": "python3"
  },
  "language_info": {
   "codemirror_mode": {
    "name": "ipython",
    "version": 3
   },
   "file_extension": ".py",
   "mimetype": "text/x-python",
   "name": "python",
   "nbconvert_exporter": "python",
   "pygments_lexer": "ipython3",
   "version": "3.6.4"
  }
 },
 "nbformat": 4,
 "nbformat_minor": 2
}

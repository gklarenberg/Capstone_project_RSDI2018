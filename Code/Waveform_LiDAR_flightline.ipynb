{
 "cells": [
  {
   "cell_type": "code",
   "execution_count": 31,
   "metadata": {},
   "outputs": [],
   "source": [
    "import numpy as np\n",
    "import time\n",
    "from matplotlib import pyplot as plt\n",
    "import NEON_AOP_waveform_tools # written by Tristan, lots of functions\n",
    "import pandas as pd"
   ]
  },
  {
   "cell_type": "code",
   "execution_count": 2,
   "metadata": {},
   "outputs": [],
   "source": [
    "# Define the PLS file of the pulsewaves data\n",
    "PlsFile = r\"2015032618_Q780_150326_194954_1_originalpoints.pls\"\n",
    "# there are 2 million pulse points\n",
    "# You have to have the .wvs available as well."
   ]
  },
  {
   "cell_type": "code",
   "execution_count": 3,
   "metadata": {},
   "outputs": [
    {
     "data": {
      "text/plain": [
       "array([24063095])"
      ]
     },
     "execution_count": 3,
     "metadata": {},
     "output_type": "execute_result"
    }
   ],
   "source": [
    "# Figure out how many pulses there are\n",
    "fin_pls_file = open(PlsFile,\"rb\")\n",
    "fin_pls_file.seek(184,0)\n",
    "number_of_pulses = np.fromfile(fin_pls_file,np.int64,1)\n",
    "number_of_pulses"
   ]
  },
  {
   "cell_type": "code",
   "execution_count": 6,
   "metadata": {},
   "outputs": [],
   "source": [
    "# Define the pulses we want \n",
    "pulses = np.arange(0,10)"
   ]
  },
  {
   "cell_type": "code",
   "execution_count": 41,
   "metadata": {},
   "outputs": [],
   "source": [
    "xyz_coords = []"
   ]
  },
  {
   "cell_type": "code",
   "execution_count": null,
   "metadata": {},
   "outputs": [],
   "source": []
  },
  {
   "cell_type": "code",
   "execution_count": 48,
   "metadata": {},
   "outputs": [
    {
     "name": "stdout",
     "output_type": "stream",
     "text": [
      "read 0 pulses in file in 7.80000000020209e-05 seconds, we are [0.]% done\n"
     ]
    }
   ],
   "source": [
    "for pulse in pulses:\n",
    "    pulse=[pulse]\n",
    "    # Read in pulse number info\n",
    "    # 1) coordinate info\n",
    "    # 2) received wave\n",
    "    # 3) outgoing wave\n",
    "    coord_info, wave_in, wave_out = NEON_AOP_waveform_tools.waveform_read(pulse,PlsFile)\n",
    "    # print coordinates\n",
    "    #print(coord_info) # first number is GPS time, next 3 describe the direction of the (3d coordinates), \n",
    "    # last three number are the actual coordinates the start of the pulse (x,y,z)\n",
    "    \n",
    "    initial_params_out = NEON_AOP_waveform_tools.get_params(wave_out[0])\n",
    "    initial_params_in = NEON_AOP_waveform_tools.get_params(wave_in[0])\n",
    "    \n",
    "    num_peaks_in = np.array(initial_params_in[0,-1]) # number of peaks is saved in this location\n",
    "\n",
    "    WFtime = np.arange(1,244) # set up time (ns bins)\n",
    "    \n",
    "    fit_wave_final = NEON_AOP_waveform_tools.get_fit_wave(initial_params_in, 244, num_peaks_in)\n",
    "    \n",
    "    FWHM = (2.355*(initial_params_in[0,2:int(num_peaks_in*3):3]/2**0.5))/2 # full width half max. Grab 3rd, 6th, 9th parameters\n",
    "    \n",
    "    trig_loc = initial_params_in[0,1:int(num_peaks_in*3):3] - FWHM\n",
    "    trig_loc  = np.reshape(trig_loc,(int(num_peaks_in),1))\n",
    "    \n",
    "    # normalize trigger locations by the location of the outgoing pulse\n",
    "    trig_loc = initial_params_in[0,1:int(num_peaks_in*3):3]-FWHM-initial_params_out[0,1]\n",
    "    trig_loc = np.reshape(trig_loc,(int(num_peaks_in),1))\n",
    "    \n",
    "    pulse_coords = (np.matlib.repmat(trig_loc[:,0],3,1)).transpose()*coord_info[:,1:4]+coord_info[:,4:7]\n",
    "    #print(pulse_coords)\n",
    "    xyz_coords.append(pulse_coords)\n",
    "    "
   ]
  },
  {
   "cell_type": "code",
   "execution_count": 57,
   "metadata": {},
   "outputs": [
    {
     "data": {
      "text/html": [
       "<div>\n",
       "<style scoped>\n",
       "    .dataframe tbody tr th:only-of-type {\n",
       "        vertical-align: middle;\n",
       "    }\n",
       "\n",
       "    .dataframe tbody tr th {\n",
       "        vertical-align: top;\n",
       "    }\n",
       "\n",
       "    .dataframe thead th {\n",
       "        text-align: right;\n",
       "    }\n",
       "</style>\n",
       "<table border=\"1\" class=\"dataframe\">\n",
       "  <thead>\n",
       "    <tr style=\"text-align: right;\">\n",
       "      <th></th>\n",
       "      <th>0</th>\n",
       "    </tr>\n",
       "  </thead>\n",
       "  <tbody>\n",
       "    <tr>\n",
       "      <th>0</th>\n",
       "      <td>[[531524.6264803635, 4317845.54146926, 2260.42...</td>\n",
       "    </tr>\n",
       "    <tr>\n",
       "      <th>1</th>\n",
       "      <td>[[531525.0017324772, 4317845.541419738, 2260.3...</td>\n",
       "    </tr>\n",
       "    <tr>\n",
       "      <th>2</th>\n",
       "      <td>[[531525.9821181245, 4317845.059754713, 2262.0...</td>\n",
       "    </tr>\n",
       "    <tr>\n",
       "      <th>3</th>\n",
       "      <td>[[531524.2724422665, 4317844.550498687, 2260.2...</td>\n",
       "    </tr>\n",
       "    <tr>\n",
       "      <th>4</th>\n",
       "      <td>[[531524.6890749062, 4317844.541271165, 2260.2...</td>\n",
       "    </tr>\n",
       "    <tr>\n",
       "      <th>5</th>\n",
       "      <td>[[531525.21320904, 4317844.605302135, 2260.232...</td>\n",
       "    </tr>\n",
       "    <tr>\n",
       "      <th>6</th>\n",
       "      <td>[[531525.5660766668, 4317844.568607119, 2260.1...</td>\n",
       "    </tr>\n",
       "    <tr>\n",
       "      <th>7</th>\n",
       "      <td>[[531524.8767054746, 4317843.541046058, 2260.1...</td>\n",
       "    </tr>\n",
       "    <tr>\n",
       "      <th>8</th>\n",
       "      <td>[[531525.3144620832, 4317843.540996535, 2260.0...</td>\n",
       "    </tr>\n",
       "    <tr>\n",
       "      <th>9</th>\n",
       "      <td>[[531525.7538017294, 4317843.568232012, 2260.0...</td>\n",
       "    </tr>\n",
       "    <tr>\n",
       "      <th>10</th>\n",
       "      <td>[[531524.6264803635, 4317845.54146926, 2260.42...</td>\n",
       "    </tr>\n",
       "    <tr>\n",
       "      <th>11</th>\n",
       "      <td>[[531525.0017324772, 4317845.541419738, 2260.3...</td>\n",
       "    </tr>\n",
       "    <tr>\n",
       "      <th>12</th>\n",
       "      <td>[[531525.9821181245, 4317845.059754713, 2262.0...</td>\n",
       "    </tr>\n",
       "    <tr>\n",
       "      <th>13</th>\n",
       "      <td>[[531524.2724422665, 4317844.550498687, 2260.2...</td>\n",
       "    </tr>\n",
       "    <tr>\n",
       "      <th>14</th>\n",
       "      <td>[[531524.6890749062, 4317844.541271165, 2260.2...</td>\n",
       "    </tr>\n",
       "    <tr>\n",
       "      <th>15</th>\n",
       "      <td>[[531525.21320904, 4317844.605302135, 2260.232...</td>\n",
       "    </tr>\n",
       "    <tr>\n",
       "      <th>16</th>\n",
       "      <td>[[531525.5660766668, 4317844.568607119, 2260.1...</td>\n",
       "    </tr>\n",
       "    <tr>\n",
       "      <th>17</th>\n",
       "      <td>[[531524.8767054746, 4317843.541046058, 2260.1...</td>\n",
       "    </tr>\n",
       "    <tr>\n",
       "      <th>18</th>\n",
       "      <td>[[531525.3144620832, 4317843.540996535, 2260.0...</td>\n",
       "    </tr>\n",
       "    <tr>\n",
       "      <th>19</th>\n",
       "      <td>[[531525.7538017294, 4317843.568232012, 2260.0...</td>\n",
       "    </tr>\n",
       "    <tr>\n",
       "      <th>20</th>\n",
       "      <td>[[531524.6264803635, 4317845.54146926, 2260.42...</td>\n",
       "    </tr>\n",
       "    <tr>\n",
       "      <th>21</th>\n",
       "      <td>[[531525.0017324772, 4317845.541419738, 2260.3...</td>\n",
       "    </tr>\n",
       "    <tr>\n",
       "      <th>22</th>\n",
       "      <td>[[531525.9821181245, 4317845.059754713, 2262.0...</td>\n",
       "    </tr>\n",
       "    <tr>\n",
       "      <th>23</th>\n",
       "      <td>[[531524.2724422665, 4317844.550498687, 2260.2...</td>\n",
       "    </tr>\n",
       "    <tr>\n",
       "      <th>24</th>\n",
       "      <td>[[531524.6890749062, 4317844.541271165, 2260.2...</td>\n",
       "    </tr>\n",
       "    <tr>\n",
       "      <th>25</th>\n",
       "      <td>[[531525.21320904, 4317844.605302135, 2260.232...</td>\n",
       "    </tr>\n",
       "    <tr>\n",
       "      <th>26</th>\n",
       "      <td>[[531525.5660766668, 4317844.568607119, 2260.1...</td>\n",
       "    </tr>\n",
       "    <tr>\n",
       "      <th>27</th>\n",
       "      <td>[[531524.8767054746, 4317843.541046058, 2260.1...</td>\n",
       "    </tr>\n",
       "    <tr>\n",
       "      <th>28</th>\n",
       "      <td>[[531525.3144620832, 4317843.540996535, 2260.0...</td>\n",
       "    </tr>\n",
       "    <tr>\n",
       "      <th>29</th>\n",
       "      <td>[[531525.7538017294, 4317843.568232012, 2260.0...</td>\n",
       "    </tr>\n",
       "  </tbody>\n",
       "</table>\n",
       "</div>"
      ],
      "text/plain": [
       "                                                    0\n",
       "0   [[531524.6264803635, 4317845.54146926, 2260.42...\n",
       "1   [[531525.0017324772, 4317845.541419738, 2260.3...\n",
       "2   [[531525.9821181245, 4317845.059754713, 2262.0...\n",
       "3   [[531524.2724422665, 4317844.550498687, 2260.2...\n",
       "4   [[531524.6890749062, 4317844.541271165, 2260.2...\n",
       "5   [[531525.21320904, 4317844.605302135, 2260.232...\n",
       "6   [[531525.5660766668, 4317844.568607119, 2260.1...\n",
       "7   [[531524.8767054746, 4317843.541046058, 2260.1...\n",
       "8   [[531525.3144620832, 4317843.540996535, 2260.0...\n",
       "9   [[531525.7538017294, 4317843.568232012, 2260.0...\n",
       "10  [[531524.6264803635, 4317845.54146926, 2260.42...\n",
       "11  [[531525.0017324772, 4317845.541419738, 2260.3...\n",
       "12  [[531525.9821181245, 4317845.059754713, 2262.0...\n",
       "13  [[531524.2724422665, 4317844.550498687, 2260.2...\n",
       "14  [[531524.6890749062, 4317844.541271165, 2260.2...\n",
       "15  [[531525.21320904, 4317844.605302135, 2260.232...\n",
       "16  [[531525.5660766668, 4317844.568607119, 2260.1...\n",
       "17  [[531524.8767054746, 4317843.541046058, 2260.1...\n",
       "18  [[531525.3144620832, 4317843.540996535, 2260.0...\n",
       "19  [[531525.7538017294, 4317843.568232012, 2260.0...\n",
       "20  [[531524.6264803635, 4317845.54146926, 2260.42...\n",
       "21  [[531525.0017324772, 4317845.541419738, 2260.3...\n",
       "22  [[531525.9821181245, 4317845.059754713, 2262.0...\n",
       "23  [[531524.2724422665, 4317844.550498687, 2260.2...\n",
       "24  [[531524.6890749062, 4317844.541271165, 2260.2...\n",
       "25  [[531525.21320904, 4317844.605302135, 2260.232...\n",
       "26  [[531525.5660766668, 4317844.568607119, 2260.1...\n",
       "27  [[531524.8767054746, 4317843.541046058, 2260.1...\n",
       "28  [[531525.3144620832, 4317843.540996535, 2260.0...\n",
       "29  [[531525.7538017294, 4317843.568232012, 2260.0..."
      ]
     },
     "execution_count": 57,
     "metadata": {},
     "output_type": "execute_result"
    }
   ],
   "source": [
    "pd.DataFrame(xyz_coords)"
   ]
  },
  {
   "cell_type": "code",
   "execution_count": 50,
   "metadata": {},
   "outputs": [
    {
     "ename": "AttributeError",
     "evalue": "'list' object has no attribute 'shape'",
     "output_type": "error",
     "traceback": [
      "\u001b[0;31m---------------------------------------------------------------------------\u001b[0m",
      "\u001b[0;31mAttributeError\u001b[0m                            Traceback (most recent call last)",
      "\u001b[0;32m<ipython-input-50-5c17d3c9af0b>\u001b[0m in \u001b[0;36m<module>\u001b[0;34m()\u001b[0m\n\u001b[0;32m----> 1\u001b[0;31m \u001b[0mxyz_coords\u001b[0m\u001b[0;34m.\u001b[0m\u001b[0mshape\u001b[0m\u001b[0;34m\u001b[0m\u001b[0m\n\u001b[0m",
      "\u001b[0;31mAttributeError\u001b[0m: 'list' object has no attribute 'shape'"
     ]
    }
   ],
   "source": []
  },
  {
   "cell_type": "code",
   "execution_count": null,
   "metadata": {},
   "outputs": [],
   "source": []
  }
 ],
 "metadata": {
  "kernelspec": {
   "display_name": "Python 3",
   "language": "python",
   "name": "python3"
  },
  "language_info": {
   "codemirror_mode": {
    "name": "ipython",
    "version": 3
   },
   "file_extension": ".py",
   "mimetype": "text/x-python",
   "name": "python",
   "nbconvert_exporter": "python",
   "pygments_lexer": "ipython3",
   "version": "3.6.4"
  }
 },
 "nbformat": 4,
 "nbformat_minor": 2
}

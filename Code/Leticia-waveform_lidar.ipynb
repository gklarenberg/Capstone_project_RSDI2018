{
 "cells": [
  {
   "cell_type": "code",
   "execution_count": 19,
   "metadata": {},
   "outputs": [],
   "source": [
    "import numpy as np\n",
    "import time\n",
    "from matplotlib import pyplot as plt\n",
    "import NEON_AOP_waveform_tools #importing the functions\n",
    "import sys"
   ]
  },
  {
   "cell_type": "code",
   "execution_count": 18,
   "metadata": {},
   "outputs": [
    {
     "name": "stdout",
     "output_type": "stream",
     "text": [
      "read 0 pulses in file in 0.00025199999998903877 seconds, we are [0.]% done\n",
      "[[5.31524630e+05 4.31784554e+06 2.26043944e+03]\n",
      " [5.31524284e+05 4.31784562e+06 2.25923269e+03]]\n",
      "[[5.31525017e+05 4.31784554e+06 2.26035814e+03]\n",
      " [5.31524672e+05 4.31784561e+06 2.25915697e+03]]\n",
      "[[5.31526003e+05 4.31784506e+06 2.26212251e+03]\n",
      " [5.31525481e+05 4.31784517e+06 2.26030009e+03]\n",
      " [5.31525031e+05 4.31784527e+06 2.25872930e+03]]\n",
      "1\n",
      "[[5.31524311e+05 4.31784454e+06 2.26033965e+03]\n",
      " [5.31523893e+05 4.31784463e+06 2.25888468e+03]\n",
      " [5.31523628e+05 4.31784469e+06 2.25796365e+03]]\n",
      "[[5.31524704e+05 4.31784454e+06 2.26027459e+03]\n",
      " [5.31524340e+05 4.31784462e+06 2.25900805e+03]\n",
      " [5.31523998e+05 4.31784469e+06 2.25781532e+03]]\n",
      "1\n",
      "[[5.31525244e+05 4.31784460e+06 2.26034030e+03]\n",
      " [5.31524774e+05 4.31784470e+06 2.25869973e+03]\n",
      " [5.31524495e+05 4.31784476e+06 2.25772661e+03]]\n",
      "[[5.31525577e+05 4.31784457e+06 2.26015069e+03]\n",
      " [5.31525216e+05 4.31784465e+06 2.25889086e+03]\n",
      " [5.31524796e+05 4.31784474e+06 2.25742391e+03]]\n",
      "[[5.31524898e+05 4.31784354e+06 2.26020924e+03]\n",
      " [5.31524540e+05 4.31784362e+06 2.25895996e+03]\n",
      " [5.31524214e+05 4.31784369e+06 2.25782452e+03]]\n",
      "1\n",
      "1\n",
      "[[5.31525340e+05 4.31784354e+06 2.26010414e+03]\n",
      " [5.31525003e+05 4.31784361e+06 2.25892745e+03]]\n",
      "[[5.31525754e+05 4.31784357e+06 2.26002697e+03]\n",
      " [5.31525411e+05 4.31784364e+06 2.25882623e+03]\n",
      " [5.31524973e+05 4.31784374e+06 2.25729463e+03]]\n"
     ]
    }
   ],
   "source": [
    "#define the PLS file fo the pulswaves data\n",
    "plsFile = './2015032618_Q780_150326_194954_1_originalpoints.pls'\n",
    "\n",
    "#set the first and last numbers in the range - in the bash script set the beginning and end\n",
    "#call the script using this: python [name_of_script].py begin end\n",
    "begin = int(sys.argv[1])\n",
    "end = int(sys.arv[2])\n",
    "\n",
    "for pulse in range(begin,end):\n",
    "    pulse_number = [pulse]\n",
    "    coord_info, wave_in, wave_out = NEON_AOP_waveform_tools.waveform_read(pulse_number, plsFile)\n",
    "    #print(coord_info) \n",
    "    #get the initial parameters\n",
    "    initial_params_out = NEON_AOP_waveform_tools.get_params(wave_out[0])\n",
    "    initial_params_in = NEON_AOP_waveform_tools.get_params(wave_in[0])\n",
    "    \n",
    "    num_peaks_in = np.array(initial_params_in[0,-1]) #the last one is the number of peaks\n",
    "    WFtime = np.arange(1,244)\n",
    "    temp_in_params = NEON_AOP_waveform_tools.get_gaussian_params(initial_params_in, wave_in[0],10,20,0)[0]\n",
    "    temp_out_params = NEON_AOP_waveform_tools.get_gaussian_params(initial_params_out, wave_out[0],10,20,0)[0]\n",
    "\n",
    "    fit_wave_final = NEON_AOP_waveform_tools.get_fit_wave(temp_in_params, 244, num_peaks_in)\n",
    "    FWHM = (2.355*(temp_in_params[0,2:int(num_peaks_in*3):3]/2**0.5))/2\n",
    "    \n",
    "    trig_loc = temp_in_params[0,1:int(num_peaks_in*3):3]-FWHM-temp_out_params[0,1] #subtracting the outgoing pulse, need to normalize trigger locations by the locations of the outgoing pulse\n",
    "    trig_loc = np.reshape(trig_loc,(int(num_peaks_in),1))\n",
    "\n",
    "    pulse_coords = (np.matlib.repmat(trig_loc[:,0],3,1)).transpose()*coord_info[:,1:4]+coord_info[:,4:7]\n",
    "    print(pulse_coords)\n",
    "\n"
   ]
  },
  {
   "cell_type": "code",
   "execution_count": null,
   "metadata": {},
   "outputs": [],
   "source": []
  }
 ],
 "metadata": {
  "kernelspec": {
   "display_name": "Python 3.5 NEON-RSDI",
   "language": "python",
   "name": "p35"
  },
  "language_info": {
   "codemirror_mode": {
    "name": "ipython",
    "version": 3
   },
   "file_extension": ".py",
   "mimetype": "text/x-python",
   "name": "python",
   "nbconvert_exporter": "python",
   "pygments_lexer": "ipython3",
   "version": "3.5.5"
  }
 },
 "nbformat": 4,
 "nbformat_minor": 2
}

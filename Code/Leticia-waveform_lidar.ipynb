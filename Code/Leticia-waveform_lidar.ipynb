{
 "cells": [
  {
   "cell_type": "code",
   "execution_count": 19,
   "metadata": {},
   "outputs": [],
   "source": [
    "import numpy as np\n",
    "import time\n",
    "from matplotlib import pyplot as plt\n",
    "import NEON_AOP_waveform_tools #importing the functions\n",
    "import sys"
   ]
  },
  {
   "cell_type": "code",
   "execution_count": 25,
   "metadata": {},
   "outputs": [
    {
     "name": "stdout",
     "output_type": "stream",
     "text": [
      "read 0 pulses in file in 7.399999999790907e-05 seconds, we are [0.]% done\n",
      "1\n",
      "1\n",
      "1\n",
      "1\n",
      "total time for gaussian decomposition is 7.347378000000006\n"
     ]
    }
   ],
   "source": [
    "#define the PLS file fo the pulswaves data\n",
    "plsFile = './2015032618_Q780_150326_194954_1_originalpoints.pls'\n",
    "\n",
    "#set the first and last numbers in the range - in the bash script set the beginning and end\n",
    "#call the script using this: python [name_of_script].py begin end\n",
    "#begin = int(sys.argv[1])\n",
    "#end = int(sys.arv[2])\n",
    "\n",
    "begin = 0\n",
    "end = 10\n",
    "\n",
    "\n",
    "GaussianCalcTime = time.clock()\n",
    "for pulse in range(begin,end):\n",
    "    pulse_number = [pulse]\n",
    "    coord_info, wave_in, wave_out = NEON_AOP_waveform_tools.waveform_read(pulse_number, plsFile)\n",
    "    #print(coord_info) \n",
    "    #get the initial parameters\n",
    "    initial_params_out = NEON_AOP_waveform_tools.get_params(wave_out[0])\n",
    "    initial_params_in = NEON_AOP_waveform_tools.get_params(wave_in[0])\n",
    "    \n",
    "    num_peaks_in = np.array(initial_params_in[0,-1]) #the last one is the number of peaks\n",
    "    WFtime = np.arange(1,244)\n",
    "    temp_in_params = NEON_AOP_waveform_tools.get_gaussian_params(initial_params_in, wave_in[0],10,20,0)[0]\n",
    "    temp_out_params = NEON_AOP_waveform_tools.get_gaussian_params(initial_params_out, wave_out[0],10,20,0)[0]\n",
    "\n",
    "    fit_wave_final = NEON_AOP_waveform_tools.get_fit_wave(temp_in_params, 244, num_peaks_in)\n",
    "    FWHM = (2.355*(temp_in_params[0,2:int(num_peaks_in*3):3]/2**0.5))/2\n",
    "    \n",
    "    trig_loc = temp_in_params[0,1:int(num_peaks_in*3):3]-FWHM-temp_out_params[0,1] #subtracting the outgoing pulse, need to normalize trigger locations by the locations of the outgoing pulse\n",
    "    trig_loc = np.reshape(trig_loc,(int(num_peaks_in),1))\n",
    "\n",
    "    pulse_coords = (np.matlib.repmat(trig_loc[:,0],3,1)).transpose()*coord_info[:,1:4]+coord_info[:,4:7]\n",
    "    #print(pulse_coords)\n",
    "\n",
    "print(\"total time for gaussian decomposition is {}\".format(time.clock()-GaussianCalcTime))\n",
    "\n"
   ]
  },
  {
   "cell_type": "code",
   "execution_count": 26,
   "metadata": {},
   "outputs": [
    {
     "name": "stdout",
     "output_type": "stream",
     "text": [
      "read 0 pulses in file in 7.700000000454565e-05 seconds, we are [0.]% done\n",
      "total time for gaussian decomposition is 6.9853980000000035\n"
     ]
    }
   ],
   "source": [
    "GaussianCalcTime = time.clock()\n",
    "for pulse in range(begin,end):\n",
    "    pulse_number = [pulse]\n",
    "    coord_info, wave_in, wave_out = NEON_AOP_waveform_tools.waveform_read(pulse_number, plsFile)\n",
    "\n",
    "print(\"total time for gaussian decomposition is {}\".format(time.clock()-GaussianCalcTime))\n"
   ]
  },
  {
   "cell_type": "code",
   "execution_count": 20,
   "metadata": {
    "scrolled": true
   },
   "outputs": [
    {
     "ename": "SyntaxError",
     "evalue": "invalid syntax (<ipython-input-20-fa67c88cb831>, line 11)",
     "output_type": "error",
     "traceback": [
      "\u001b[0;36m  File \u001b[0;32m\"<ipython-input-20-fa67c88cb831>\"\u001b[0;36m, line \u001b[0;32m11\u001b[0m\n\u001b[0;31m    python [nameofscript.py] begin end\u001b[0m\n\u001b[0m                                 ^\u001b[0m\n\u001b[0;31mSyntaxError\u001b[0m\u001b[0;31m:\u001b[0m invalid syntax\n"
     ]
    }
   ],
   "source": [
    "%bash\n",
    "\n",
    "#!/bin/bash -l\n",
    "#$ -V\n",
    "#$ -l h_rt=10:00:00\n",
    "#$ -j y\n",
    "#$ -pe omp 8\n",
    "#$ -l mem_per_core=8G\n",
    "#$ -N waveform_lidar_processing\n",
    "#$ -m a\n",
    "\n",
    "echo $1\n",
    "echo $2\n",
    "python [nameofscript.py] $1 $2\n"
   ]
  },
  {
   "cell_type": "code",
   "execution_count": 27,
   "metadata": {},
   "outputs": [
    {
     "ename": "SyntaxError",
     "evalue": "invalid syntax (<ipython-input-27-4b2c50d1755c>, line 7)",
     "output_type": "error",
     "traceback": [
      "\u001b[0;36m  File \u001b[0;32m\"<ipython-input-27-4b2c50d1755c>\"\u001b[0;36m, line \u001b[0;32m7\u001b[0m\n\u001b[0;31m    for(i in 1:(length(sequence)-1)){\u001b[0m\n\u001b[0m              ^\u001b[0m\n\u001b[0;31mSyntaxError\u001b[0m\u001b[0;31m:\u001b[0m invalid syntax\n"
     ]
    }
   ],
   "source": [
    "%R\n",
    "#in R: paste this:\n",
    "pulse_number = 20000000\n",
    "\n",
    "sequence = seq(0,pulse_number, 10000)\n",
    "\n",
    "for(i in 1:(length(sequence)-1)){\n",
    "  begin = as.integer(sequence[i]+1)\n",
    "  end = as.integer(sequence[i+1])\n",
    "  print(begin)\n",
    "  print(end)\n",
    "  system(paste('qsub [script_path]', begin, end, sep = \" \"))\n",
    "}\n"
   ]
  },
  {
   "cell_type": "code",
   "execution_count": null,
   "metadata": {},
   "outputs": [],
   "source": [
    "|"
   ]
  }
 ],
 "metadata": {
  "kernelspec": {
   "display_name": "Python 3.5 NEON-RSDI",
   "language": "python",
   "name": "p35"
  },
  "language_info": {
   "codemirror_mode": {
    "name": "ipython",
    "version": 3
   },
   "file_extension": ".py",
   "mimetype": "text/x-python",
   "name": "python",
   "nbconvert_exporter": "python",
   "pygments_lexer": "ipython3",
   "version": "3.5.5"
  }
 },
 "nbformat": 4,
 "nbformat_minor": 2
}
